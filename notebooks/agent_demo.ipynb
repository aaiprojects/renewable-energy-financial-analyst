{
 "cells": [
  {
   "cell_type": "code",
   "execution_count": null,
   "id": "845a124e",
   "metadata": {},
   "outputs": [],
   "source": []
  },
  {
   "cell_type": "code",
   "execution_count": 1,
   "id": "a15c2153",
   "metadata": {},
   "outputs": [
    {
     "ename": "ModuleNotFoundError",
     "evalue": "No module named 'src'",
     "output_type": "error",
     "traceback": [
      "\u001b[0;31m---------------------------------------------------------------------------\u001b[0m",
      "\u001b[0;31mModuleNotFoundError\u001b[0m                       Traceback (most recent call last)",
      "Cell \u001b[0;32mIn[1], line 4\u001b[0m\n\u001b[1;32m      1\u001b[0m \u001b[38;5;66;03m# notebooks/agent_demo.ipynb\u001b[39;00m\n\u001b[1;32m      2\u001b[0m \n\u001b[1;32m      3\u001b[0m \u001b[38;5;66;03m# --- Imports ---\u001b[39;00m\n\u001b[0;32m----> 4\u001b[0m \u001b[38;5;28;01mfrom\u001b[39;00m \u001b[38;5;21;01msrc\u001b[39;00m\u001b[38;5;21;01m.\u001b[39;00m\u001b[38;5;21;01magent\u001b[39;00m\u001b[38;5;21;01m.\u001b[39;00m\u001b[38;5;21;01mnews_agent\u001b[39;00m \u001b[38;5;28;01mimport\u001b[39;00m NewsAgent\n\u001b[1;32m      5\u001b[0m \u001b[38;5;28;01mfrom\u001b[39;00m \u001b[38;5;21;01msrc\u001b[39;00m\u001b[38;5;21;01m.\u001b[39;00m\u001b[38;5;21;01magent\u001b[39;00m\u001b[38;5;21;01m.\u001b[39;00m\u001b[38;5;21;01mfinancial_agent\u001b[39;00m \u001b[38;5;28;01mimport\u001b[39;00m FinancialAgent\n\u001b[1;32m      7\u001b[0m \u001b[38;5;66;03m# --- Initialize agents ---\u001b[39;00m\n",
      "\u001b[0;31mModuleNotFoundError\u001b[0m: No module named 'src'"
     ]
    }
   ],
   "source": [
    "# notebooks/agent_demo.ipynb\n",
    "\n",
    "# --- Imports ---\n",
    "from src.agent.news_agent import NewsAgent\n",
    "from src.agent.financial_agent import FinancialAgent\n",
    "\n",
    "# --- Initialize agents ---\n",
    "news_agent = NewsAgent()\n",
    "financial_agent = FinancialAgent()\n",
    "\n",
    "# --- Test inputs ---\n",
    "news_text = \"The government announced new subsidies for solar and wind companies this quarter.\"\n",
    "ticker = \"TSLA\"  # Tesla\n",
    "\n",
    "# --- Run agents ---\n",
    "news_result = news_agent.run(news_text)\n",
    "finance_result = financial_agent.run(ticker)\n",
    "\n",
    "print(\"=== NewsAgent Result ===\")\n",
    "print(news_result)\n",
    "print(\"\\n=== FinancialAgent Result ===\")\n",
    "print(finance_result)\n"
   ]
  }
 ],
 "metadata": {
  "kernelspec": {
   "display_name": "Python (base)",
   "language": "python",
   "name": "base"
  },
  "language_info": {
   "codemirror_mode": {
    "name": "ipython",
    "version": 3
   },
   "file_extension": ".py",
   "mimetype": "text/x-python",
   "name": "python",
   "nbconvert_exporter": "python",
   "pygments_lexer": "ipython3",
   "version": "3.11.7"
  }
 },
 "nbformat": 4,
 "nbformat_minor": 5
}
